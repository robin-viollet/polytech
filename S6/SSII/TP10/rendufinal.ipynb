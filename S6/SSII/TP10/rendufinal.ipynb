{
 "cells": [
  {
   "cell_type": "markdown",
   "id": "9b1b4334",
   "metadata": {},
   "source": [
    "# TP SSII Classification d'images\n",
    "\n",
    "Fait par Théophile Yvars et Robin Viollet"
   ]
  },
  {
   "cell_type": "markdown",
   "id": "6437b325",
   "metadata": {},
   "source": [
    "# Imports"
   ]
  },
  {
   "cell_type": "code",
   "execution_count": 15,
   "id": "e842271c",
   "metadata": {},
   "outputs": [],
   "source": [
    "from sklearn.datasets import fetch_lfw_people\n",
    "from sklearn.model_selection import train_test_split\n",
    "from sklearn.linear_model import LogisticRegression\n",
    "import matplotlib.pyplot as plt\n",
    "import numpy as np\n",
    "import cv2\n",
    "from sklearn import preprocessing\n",
    "from sklearn.metrics import f1_score, accuracy_score, confusion_matrix, ConfusionMatrixDisplay\n",
    "from sklearn.cluster import KMeans\n",
    "import numpy as np\n",
    "from sklearn import svm"
   ]
  },
  {
   "cell_type": "markdown",
   "id": "db3e86d8",
   "metadata": {},
   "source": [
    "# Variables"
   ]
  },
  {
   "cell_type": "code",
   "execution_count": 2,
   "id": "833deb2f",
   "metadata": {},
   "outputs": [],
   "source": [
    "# Nombre de cluster souhaité\n",
    "k_count = 50"
   ]
  },
  {
   "cell_type": "markdown",
   "id": "b81a0ce5",
   "metadata": {},
   "source": [
    "# Données"
   ]
  },
  {
   "cell_type": "code",
   "execution_count": 3,
   "id": "86a0e46a",
   "metadata": {},
   "outputs": [
    {
     "name": "stdout",
     "output_type": "stream",
     "text": [
      "['Colin Powell', 'Donald Rumsfeld', 'George W Bush', 'Gerhard Schroeder', 'Tony Blair']\n"
     ]
    }
   ],
   "source": [
    "# Récupération des images\n",
    "lfw = fetch_lfw_people(min_faces_per_person=100,resize=1)\n",
    "\n",
    "# Récupération des classes\n",
    "classesNames = []\n",
    "for name in lfw.target_names:\n",
    "    classesNames.append(name)\n",
    "print(classesNames)\n",
    "\n",
    "# On veut 75% d'images d'entrainements\n",
    "X = lfw.images\n",
    "y = lfw.target\n",
    "Xtrain, Xtest, yTrain, yTest = train_test_split(X, y, test_size=0.25, random_state=33)"
   ]
  },
  {
   "cell_type": "markdown",
   "id": "7aeaec9d",
   "metadata": {},
   "source": [
    "# Classification par Régression Linéaire"
   ]
  },
  {
   "cell_type": "markdown",
   "id": "9d87f276",
   "metadata": {},
   "source": [
    "## Apprentissage"
   ]
  },
  {
   "cell_type": "markdown",
   "id": "316dacdd",
   "metadata": {},
   "source": [
    "###                             DESCRIPTEURS SIFT"
   ]
  },
  {
   "cell_type": "code",
   "execution_count": 4,
   "id": "c5d0914d",
   "metadata": {},
   "outputs": [],
   "source": [
    "# ---------------------------------------------\n",
    "# On veut récuperer les SIFTs des images\n",
    "# ---------------------------------------------\n",
    "\n",
    "# variable sift\n",
    "sift = cv2.SIFT_create()\n",
    "\n",
    "# img recupere les images d'entrainements\n",
    "img = Xtrain\n",
    "\n",
    "# Recupere les informations des images\n",
    "kp = list()\n",
    "des = list()\n",
    "\n",
    "# Recupere les descripteurs SIFTs des images (myDes) + le nombres de descripteurs sift par image (myDesLen)\n",
    "myDes = []\n",
    "myDesLen = []\n",
    "\n",
    "# Pour le nombre d'image\n",
    "for i in range(len(img)):\n",
    "    # On normalise l'image\n",
    "    imgTmp = cv2.normalize(img[i], None, 0, 255, cv2.NORM_MINMAX).astype('uint8')\n",
    "    # Recupere les informations de l'image\n",
    "    kpTmp, desTmp = sift.detectAndCompute(imgTmp,None)\n",
    "    # Stock les informations\n",
    "    kp.append(kpTmp)\n",
    "    des.append(desTmp)\n",
    "    # Pour chaque descripteur sift de l'image\n",
    "    for data in desTmp:\n",
    "        # Stock le descripteur sift\n",
    "        myDes.append(data)\n",
    "    # Stock le nombre de descripteur sift de l'image analysé\n",
    "    myDesLen.append(len(desTmp))\n",
    "    #print(len(desTmp))"
   ]
  },
  {
   "cell_type": "markdown",
   "id": "90f57383",
   "metadata": {},
   "source": [
    "### PARTITIONNEMENT PAR KMEANS"
   ]
  },
  {
   "cell_type": "code",
   "execution_count": 5,
   "id": "79e67978",
   "metadata": {},
   "outputs": [
    {
     "name": "stdout",
     "output_type": "stream",
     "text": [
      "KMeans(n_clusters=50)\n"
     ]
    }
   ],
   "source": [
    "# ---------------------------------------------\n",
    "# On veut construire les barycentre\n",
    "# ---------------------------------------------\n",
    "\n",
    "kmeans1 = KMeans(n_clusters=k_count, init='k-means++')\n",
    "# On entraine le model avec les descripteurs sifts\n",
    "kmeans1.fit(myDes)\n",
    "print(kmeans1)"
   ]
  },
  {
   "cell_type": "markdown",
   "id": "edcedc6e",
   "metadata": {},
   "source": [
    "### CALCUL DES BOWS"
   ]
  },
  {
   "cell_type": "code",
   "execution_count": 6,
   "id": "1fe372ee",
   "metadata": {},
   "outputs": [],
   "source": [
    "# ---------------------------------------------\n",
    "# On veut faire une prédiction avec les données d'entrainements\n",
    "# ---------------------------------------------\n",
    "\n",
    "# On recupère les données d'entrainements\n",
    "classes = yTrain\n",
    "\n",
    "# Variables\n",
    "bofs = np.empty(shape=(len(classes),k_count)) # tableau des numéros de cluster pour les \n",
    "# descripteurs sifts des images\n",
    "i = 0 # Index de bofs\n",
    "j = 0 # Index de lecture du nombre de sift pour l'image analysée\n",
    "k = 1 # Pour affichage du numéros de prediction\n",
    "\n",
    "# Pour le nombre de descripteurs sifts d'une image / Pour chaque image\n",
    "for ds in myDesLen:\n",
    "    # Tableau temporaire qui recupère les numéros de cluster\n",
    "    tmpBof = np.array([0]*k_count)\n",
    "    # Recupere les sifts de l'image\n",
    "    sifts = myDes[j:j+ds]\n",
    "    j += ds\n",
    "    #print(\"Predict \",k,\" ...\")\n",
    "    k=k+1\n",
    "    # Pour chaque sift de l'image\n",
    "    for sift in sifts:\n",
    "        # Predit le cluster\n",
    "        clusterID = kmeans1.predict([sift])\n",
    "        # Stock le cluster\n",
    "        tmpBof[clusterID[0]] += 1\n",
    "    # Stock les clusters de l'image\n",
    "    bofs[i] = tmpBof\n",
    "    i+= 1"
   ]
  },
  {
   "cell_type": "markdown",
   "id": "9c122f98",
   "metadata": {},
   "source": [
    "### REGRESSION LINEAIRE"
   ]
  },
  {
   "cell_type": "code",
   "execution_count": 7,
   "id": "d8876176",
   "metadata": {},
   "outputs": [
    {
     "data": {
      "text/plain": [
       "LogisticRegression()"
      ]
     },
     "execution_count": 7,
     "metadata": {},
     "output_type": "execute_result"
    }
   ],
   "source": [
    "# ---------------------------------------------\n",
    "# Résolution par regression linéaire\n",
    "# ---------------------------------------------\n",
    "\n",
    "# Fabrication du model\n",
    "logic_reg_2 = LogisticRegression()\n",
    "scaler_2 = preprocessing.StandardScaler().fit(bofs)\n",
    "xTrain2 = scaler_2.transform(bofs)\n",
    "\n",
    "# Données d'entrainement\n",
    "yTrain2 = []\n",
    "for clNumber in yTrain:\n",
    "    yTrain2 += [clNumber]\n",
    "\n",
    "# Entrainement du model\n",
    "logic_reg_2.fit(xTrain2, yTrain2)"
   ]
  },
  {
   "cell_type": "markdown",
   "id": "108a835d",
   "metadata": {},
   "source": [
    "### PREDICTION"
   ]
  },
  {
   "cell_type": "code",
   "execution_count": 8,
   "id": "ea052545",
   "metadata": {},
   "outputs": [
    {
     "name": "stdout",
     "output_type": "stream",
     "text": [
      "train F1 score =  0.7122807017543858\n",
      "train accuracy score =  0.712280701754386\n"
     ]
    }
   ],
   "source": [
    "# Prediction\n",
    "ypred2 = logic_reg_2.predict(xTrain2)\n",
    "# Affichage du résutat\n",
    "print(\"train F1 score = \", f1_score(yTrain2, ypred2, average = 'micro'))\n",
    "print(\"train accuracy score = \", accuracy_score(yTrain2, ypred2))"
   ]
  },
  {
   "cell_type": "markdown",
   "id": "4db2cefa",
   "metadata": {},
   "source": [
    "### MATRICE DE CONFUSION"
   ]
  },
  {
   "cell_type": "code",
   "execution_count": 9,
   "id": "d2e7ae03",
   "metadata": {},
   "outputs": [
    {
     "data": {
      "image/png": "[encoded data removed]",
      "text/plain": [
       "<Figure size 432x288 with 2 Axes>"
      ]
     },
     "metadata": {
      "needs_background": "light"
     },
     "output_type": "display_data"
    }
   ],
   "source": [
    "# ---------------------------------------------\n",
    "# Matrice de confusion\n",
    "# ---------------------------------------------\n",
    "\n",
    "# Noms des peronnes sur les images\n",
    "classes = classesNames\n",
    "\n",
    "# Construction de la matrice\n",
    "cm2 = confusion_matrix(yTrain2, ypred2, labels=[0,1,2,3,4])\n",
    "disp = ConfusionMatrixDisplay(confusion_matrix=cm2, display_labels=classes)\n",
    "disp.plot()\n",
    "disp.ax_.set_title('Confusion matrix (train dataset)')\n",
    "\n",
    "# Affichage\n",
    "plt.show()"
   ]
  },
  {
   "cell_type": "markdown",
   "id": "cf15720f",
   "metadata": {},
   "source": [
    "## Prédiction données de test"
   ]
  },
  {
   "cell_type": "markdown",
   "id": "c0c6abfe",
   "metadata": {},
   "source": [
    "### DESCRIPTEUR SIFT"
   ]
  },
  {
   "cell_type": "code",
   "execution_count": 10,
   "id": "b0a6f8dd",
   "metadata": {
    "scrolled": true
   },
   "outputs": [],
   "source": [
    "# ---------------------------------------------\n",
    "# On veut récuperer les SIFTs des images\n",
    "# ---------------------------------------------\n",
    "\n",
    "# variable sift\n",
    "sift = cv2.SIFT_create()\n",
    "\n",
    "# img recupere les images d'entrainements\n",
    "imgTest = Xtest\n",
    "\n",
    "# Recupere les informations des images\n",
    "kp = list()\n",
    "des = list()\n",
    "\n",
    "# Recupere les descripteurs SIFTs des images (myDes) + le nombres de descripteurs sift par image (myDesLen)\n",
    "myDes = []\n",
    "myDesLen = []\n",
    "\n",
    "# Pour le nombre d'image\n",
    "for i in range(len(imgTest)):\n",
    "    # On normalise l'image\n",
    "    imgTmp = cv2.normalize(img[i], None, 0, 255, cv2.NORM_MINMAX).astype('uint8')\n",
    "    # Recupere les informations de l'image\n",
    "    kpTmp, desTmp = sift.detectAndCompute(imgTmp,None)\n",
    "    # Stock les informations\n",
    "    kp.append(kpTmp)\n",
    "    des.append(desTmp)\n",
    "    # Pour chaque descripteur sift de l'image\n",
    "    for data in desTmp:\n",
    "        # Stock le descripteur sift\n",
    "        myDes.append(data)\n",
    "    # Stock le nombre de descripteur sift de l'image analysé\n",
    "    myDesLen.append(len(desTmp))\n",
    "\n",
    "classes = yTest\n",
    "\n",
    "# Variables\n",
    "testBofs = np.empty(shape=(len(classes),k_count)) # tableau des numéros de cluster pour les \n",
    "# descripteurs sifts des images\n",
    "i = 0 # Index de bofs\n",
    "j = 0 # Index de lecture du nombre de sift pour l'image analysée\n",
    "k = 1 # Pour affichage du numéros de prediction\n",
    "\n",
    "# Pour le nombre de descripteurs sifts d'une image / Pour chaque image\n",
    "for ds in myDesLen:\n",
    "    # Tableau temporaire qui recupere les numéros de cluster\n",
    "    tmpBof = np.array([0]*k_count)\n",
    "    # Recupere les sifts de l'image\n",
    "    sifts = myDes[j:j+ds]\n",
    "    j += ds\n",
    "    #print(\"Predict \",k,\" ...\")\n",
    "    k=k+1\n",
    "    # Pour chaque sift de l'image\n",
    "    for sift in sifts:\n",
    "        # Predit le cluster\n",
    "        clusterID = kmeans1.predict([sift])\n",
    "        # Stock le cluster\n",
    "        tmpBof[clusterID[0]] += 1\n",
    "    # Stock les clusters de l'image\n",
    "    testBofs[i] = tmpBof\n",
    "    i+= 1\n",
    "\n",
    "xTest2 = scaler_2.transform(testBofs)\n",
    "\n",
    "# Données d'entrainement\n",
    "yTest2 = []\n",
    "for clNumber in yTest:\n",
    "    yTest2 += [clNumber]"
   ]
  },
  {
   "cell_type": "markdown",
   "id": "336024ea",
   "metadata": {},
   "source": [
    "### PREDICTION"
   ]
  },
  {
   "cell_type": "code",
   "execution_count": 11,
   "id": "a7d3f2ee",
   "metadata": {},
   "outputs": [
    {
     "name": "stdout",
     "output_type": "stream",
     "text": [
      "train F1 score =  0.3157894736842105\n",
      "train accuracy score =  0.3157894736842105\n"
     ]
    }
   ],
   "source": [
    "# Prediction\n",
    "ypred = logic_reg_2.predict(xTest2)\n",
    "# Affichage du résutat\n",
    "print(\"train F1 score = \", f1_score(yTest2, ypred, average = 'micro'))\n",
    "print(\"train accuracy score = \", accuracy_score(yTest2, ypred))"
   ]
  },
  {
   "cell_type": "markdown",
   "id": "966110c5",
   "metadata": {},
   "source": [
    "### MATRICE DE CONFUSION"
   ]
  },
  {
   "cell_type": "code",
   "execution_count": 12,
   "id": "344d4df9",
   "metadata": {},
   "outputs": [
    {
     "data": {
      "image/png": "[encoded data removed]",
      "text/plain": [
       "<Figure size 432x288 with 2 Axes>"
      ]
     },
     "metadata": {
      "needs_background": "light"
     },
     "output_type": "display_data"
    }
   ],
   "source": [
    "# ---------------------------------------------\n",
    "# Matrice de confusion\n",
    "# ---------------------------------------------\n",
    "\n",
    "# Noms des peronnes sur les images\n",
    "classes = classesNames\n",
    "\n",
    "# Construction de la matrice\n",
    "cm2 = confusion_matrix(yTest2, ypred, labels=[0,1,2,3,4])\n",
    "disp = ConfusionMatrixDisplay(confusion_matrix=cm2, display_labels=classes)\n",
    "disp.plot()\n",
    "disp.ax_.set_title('Confusion matrix (train dataset)')\n",
    "\n",
    "# Affichage\n",
    "plt.show()"
   ]
  },
  {
   "cell_type": "markdown",
   "id": "c15d627c",
   "metadata": {},
   "source": [
    "# Classification par SVM"
   ]
  },
  {
   "cell_type": "markdown",
   "id": "8428656a",
   "metadata": {},
   "source": [
    "## Evaluation de la classification"
   ]
  },
  {
   "cell_type": "code",
   "execution_count": 13,
   "id": "5ca8f00d",
   "metadata": {},
   "outputs": [],
   "source": [
    "# variable sift\n",
    "sift = cv2.SIFT_create()\n",
    "\n",
    "# img recupere les images d'entrainements\n",
    "img = Xtest\n",
    "\n",
    "# Recupere les informations des images\n",
    "kp = list()\n",
    "des = list()\n",
    "\n",
    "# Recupere les descripteurs SIFTs des images (myDes) + le nombres de descripteurs sift par image (myDesLen)\n",
    "myDes = []\n",
    "myDesLen = []\n",
    "\n",
    "# Pour le nombre d'image\n",
    "for i in range(len(img)):\n",
    "    # On normalise l'image\n",
    "    imgTmp = cv2.normalize(img[i], None, 0, 255, cv2.NORM_MINMAX).astype('uint8')\n",
    "    # Recupere les informations de l'image\n",
    "    kpTmp, desTmp = sift.detectAndCompute(imgTmp,None)\n",
    "    # Stock les informations\n",
    "    kp.append(kpTmp)\n",
    "    des.append(desTmp)\n",
    "    # Pour chaque descripteur sift de l'image\n",
    "    for data in desTmp:\n",
    "        # Stock le descripteur sift\n",
    "        myDes.append(data)\n",
    "    # Stock le nombre de descripteur sift de l'image analysé\n",
    "    myDesLen.append(len(desTmp))\n",
    "    #print(len(desTmp))\n",
    "\n",
    "\n",
    "classes = yTest\n",
    "\n",
    "bofs_test = np.empty(shape=(len(classes),k_count))\n",
    "\n",
    "# descripteurs sifts des images\n",
    "i = 0 # Index de bofs\n",
    "j = 0 # Index de lecture du nombre de sift pour l'image analysée\n",
    "k = 1 # Pour affichage du numéros de prediction\n",
    "\n",
    "# Pour le nombre de descripteurs sifts d'une image / Pour chaque image\n",
    "for ds in myDesLen:\n",
    "    # Tableau temporaire qui recupere les numéros de cluster\n",
    "    tmpBof = np.array([0]*k_count)\n",
    "    # Recupere les sifts de l'image\n",
    "    sifts = myDes[j:j+ds]\n",
    "    j += ds\n",
    "    #print(\"Predict \",k,\" ...\")\n",
    "    k=k+1\n",
    "    # Pour chaque sift de l'image\n",
    "    for sift in sifts:\n",
    "        # Predit le cluster\n",
    "        clusterID = kmeans1.predict([sift])\n",
    "        # Stock le cluster\n",
    "        tmpBof[clusterID[0]] += 1\n",
    "    # Stock les clusters de l'image\n",
    "    bofs_test[i] = tmpBof\n",
    "    i+= 1"
   ]
  },
  {
   "cell_type": "markdown",
   "id": "09ff4d5c",
   "metadata": {},
   "source": [
    "## Kernel : linear && Decision_function_shape=ovr"
   ]
  },
  {
   "cell_type": "code",
   "execution_count": 16,
   "id": "7c8c68ea",
   "metadata": {},
   "outputs": [],
   "source": [
    "#X = [[0, 0], [1, 1]]\n",
    "#y = [0,1]\n",
    "\n",
    "#print(Xtest)\n",
    "\n",
    "X = bofs_test\n",
    "y = yTest\n",
    "\n",
    "\n",
    "# classif = svm.SVC(kernel='linear')\n",
    "classif = svm.SVC(kernel='linear', decision_function_shape='ovr')\n",
    "classif.fit(X, y)\n",
    "\n",
    "#print(Xtest.shape)\n",
    "\n",
    "ypred2linearovr = classif.predict(X)\n",
    "\n",
    "#print(\"prediction class for [2,2]\", classif.predict([[2., 2.]])\n",
    "#print(\"support vectors: \", classif.support_vectors_)"
   ]
  },
  {
   "cell_type": "code",
   "execution_count": 17,
   "id": "aebe6194",
   "metadata": {},
   "outputs": [
    {
     "name": "stdout",
     "output_type": "stream",
     "text": [
      "train F1 score =  0.9859649122807017\n",
      "train accuracy score =  0.9859649122807017\n"
     ]
    }
   ],
   "source": [
    "linearovr = f1_score(y, ypred2linearovr, average = 'micro')\n",
    "print(\"train F1 score = \", linearovr)\n",
    "print(\"train accuracy score = \", accuracy_score(y, ypred2linearovr))"
   ]
  },
  {
   "cell_type": "code",
   "execution_count": 18,
   "id": "05bb48ed",
   "metadata": {},
   "outputs": [
    {
     "data": {
      "image/png": "[encoded data removed]",
      "text/plain": [
       "<Figure size 432x288 with 2 Axes>"
      ]
     },
     "metadata": {
      "needs_background": "light"
     },
     "output_type": "display_data"
    }
   ],
   "source": [
    "# Noms des peronnes sur les images\n",
    "classes = classesNames\n",
    "\n",
    "# Construction de la matrice\n",
    "cm2 = confusion_matrix(y, ypred2linearovr, labels=[0,1,2,3,4])\n",
    "disp = ConfusionMatrixDisplay(confusion_matrix=cm2, display_labels=classes)\n",
    "disp.plot()\n",
    "disp.ax_.set_title('Confusion matrix (train dataset)')\n",
    "\n",
    "# Affichage\n",
    "plt.show()"
   ]
  },
  {
   "cell_type": "markdown",
   "id": "bdc9f000",
   "metadata": {},
   "source": [
    "## Kernel : rbf && Decision_function_shape=ovr"
   ]
  },
  {
   "cell_type": "code",
   "execution_count": 19,
   "id": "666ec2d1",
   "metadata": {},
   "outputs": [],
   "source": [
    "X = bofs_test\n",
    "y = yTest\n",
    "\n",
    "\n",
    "# classif = svm.SVC(kernel='linear')\n",
    "classif = svm.SVC(kernel='rbf', decision_function_shape='ovr')\n",
    "classif.fit(X, y)\n",
    "\n",
    "#print(Xtest.shape)\n",
    "\n",
    "ypred2rbfovr = classif.predict(X)\n",
    "\n",
    "#print(\"prediction class for [2,2]\", classif.predict([[2., 2.]])\n",
    "#print(\"support vectors: \", classif.support_vectors_)"
   ]
  },
  {
   "cell_type": "code",
   "execution_count": 20,
   "id": "2a8128c6",
   "metadata": {},
   "outputs": [
    {
     "name": "stdout",
     "output_type": "stream",
     "text": [
      "train F1 score =  0.8947368421052632\n",
      "train accuracy score =  0.8947368421052632\n"
     ]
    }
   ],
   "source": [
    "rbfovr = f1_score(y, ypred2rbfovr, average = 'micro')\n",
    "print(\"train F1 score = \", rbfovr)\n",
    "print(\"train accuracy score = \", accuracy_score(y, ypred2rbfovr))"
   ]
  },
  {
   "cell_type": "code",
   "execution_count": 21,
   "id": "f06df47b",
   "metadata": {},
   "outputs": [
    {
     "data": {
      "image/png": "[encoded data removed]",
      "text/plain": [
       "<Figure size 432x288 with 2 Axes>"
      ]
     },
     "metadata": {
      "needs_background": "light"
     },
     "output_type": "display_data"
    }
   ],
   "source": [
    "# Noms des peronnes sur les images\n",
    "classes = classesNames\n",
    "\n",
    "# Construction de la matrice\n",
    "cm2 = confusion_matrix(y, ypred2rbfovr, labels=[0,1,2,3,4])\n",
    "disp = ConfusionMatrixDisplay(confusion_matrix=cm2, display_labels=classes)\n",
    "disp.plot()\n",
    "disp.ax_.set_title('Confusion matrix (train dataset)')\n",
    "\n",
    "# Affichage\n",
    "plt.show()"
   ]
  },
  {
   "cell_type": "markdown",
   "id": "2bcd3892",
   "metadata": {},
   "source": [
    "## Kernel : poly && Decision_function_shape=ovr"
   ]
  },
  {
   "cell_type": "code",
   "execution_count": 22,
   "id": "a10884fb",
   "metadata": {},
   "outputs": [],
   "source": [
    "X = bofs_test\n",
    "y = yTest\n",
    "\n",
    "# classif = svm.SVC(kernel='linear')\n",
    "classif = svm.SVC(kernel='poly', decision_function_shape='ovr')\n",
    "classif.fit(X, y)\n",
    "\n",
    "#print(Xtest.shape)\n",
    "\n",
    "ypred2polyovr = classif.predict(X)\n",
    "\n",
    "#print(\"prediction class for [2,2]\", classif.predict([[2., 2.]])\n",
    "#print(\"support vectors: \", classif.support_vectors_)"
   ]
  },
  {
   "cell_type": "code",
   "execution_count": 23,
   "id": "eecc1df9",
   "metadata": {},
   "outputs": [
    {
     "name": "stdout",
     "output_type": "stream",
     "text": [
      "train F1 score =  0.9789473684210527\n",
      "train accuracy score =  0.9789473684210527\n"
     ]
    }
   ],
   "source": [
    "polyovr = f1_score(y, ypred2polyovr, average = 'micro')\n",
    "print(\"train F1 score = \", polyovr)\n",
    "print(\"train accuracy score = \", accuracy_score(y, ypred2polyovr))"
   ]
  },
  {
   "cell_type": "code",
   "execution_count": 24,
   "id": "4435a9b4",
   "metadata": {},
   "outputs": [
    {
     "data": {
      "image/png": "[encoded data removed]",
      "text/plain": [
       "<Figure size 432x288 with 2 Axes>"
      ]
     },
     "metadata": {
      "needs_background": "light"
     },
     "output_type": "display_data"
    }
   ],
   "source": [
    "# Noms des personnes sur les images\n",
    "classes = classesNames\n",
    "\n",
    "# Construction de la matrice\n",
    "cm2 = confusion_matrix(y, ypred2polyovr, labels=[0,1,2,3,4])\n",
    "disp = ConfusionMatrixDisplay(confusion_matrix=cm2, display_labels=classes)\n",
    "disp.plot()\n",
    "disp.ax_.set_title('Confusion matrix (train dataset)')\n",
    "\n",
    "# Affichage\n",
    "plt.show()"
   ]
  },
  {
   "cell_type": "markdown",
   "id": "2e152ef7",
   "metadata": {},
   "source": [
    "## Kernel : linear && Decision_function_shape=ovo"
   ]
  },
  {
   "cell_type": "code",
   "execution_count": 25,
   "id": "abbc531d",
   "metadata": {},
   "outputs": [],
   "source": [
    "X = bofs_test\n",
    "y = yTest\n",
    "\n",
    "\n",
    "# classif = svm.SVC(kernel='linear')\n",
    "classif = svm.SVC(kernel='linear', decision_function_shape='ovo')\n",
    "classif.fit(X, y)\n",
    "\n",
    "#print(Xtest.shape)\n",
    "\n",
    "ypred2linearovo = classif.predict(X)\n",
    "\n",
    "#print(\"prediction class for [2,2]\", classif.predict([[2., 2.]])\n",
    "#print(\"support vectors: \", classif.support_vectors_)"
   ]
  },
  {
   "cell_type": "code",
   "execution_count": 26,
   "id": "34418c02",
   "metadata": {},
   "outputs": [
    {
     "name": "stdout",
     "output_type": "stream",
     "text": [
      "train F1 score =  0.9859649122807017\n",
      "train accuracy score =  0.9859649122807017\n"
     ]
    }
   ],
   "source": [
    "linearovo = f1_score(y, ypred2linearovo, average = 'micro')\n",
    "print(\"train F1 score = \", linearovo)\n",
    "print(\"train accuracy score = \", accuracy_score(y, ypred2linearovo))"
   ]
  },
  {
   "cell_type": "code",
   "execution_count": 27,
   "id": "3a302aac",
   "metadata": {},
   "outputs": [
    {
     "data": {
      "image/png": "[encoded data removed]",
      "text/plain": [
       "<Figure size 432x288 with 2 Axes>"
      ]
     },
     "metadata": {
      "needs_background": "light"
     },
     "output_type": "display_data"
    }
   ],
   "source": [
    "# Noms des peronnes sur les images\n",
    "classes = classesNames\n",
    "\n",
    "# Construction de la matrice\n",
    "cm2 = confusion_matrix(y, ypred2linearovo, labels=[0,1,2,3,4])\n",
    "disp = ConfusionMatrixDisplay(confusion_matrix=cm2, display_labels=classes)\n",
    "disp.plot()\n",
    "disp.ax_.set_title('Confusion matrix (train dataset)')\n",
    "\n",
    "# Affichage\n",
    "plt.show()"
   ]
  },
  {
   "cell_type": "markdown",
   "id": "c10aaddf",
   "metadata": {},
   "source": [
    "## Kernel : rbf && Decision_function_shape=ovo"
   ]
  },
  {
   "cell_type": "code",
   "execution_count": 28,
   "id": "30f1a2ed",
   "metadata": {},
   "outputs": [],
   "source": [
    "X = bofs_test\n",
    "y = yTest\n",
    "\n",
    "\n",
    "# classif = svm.SVC(kernel='linear')\n",
    "classif = svm.SVC(kernel='rbf', decision_function_shape='ovo')\n",
    "classif.fit(X, y)\n",
    "\n",
    "#print(Xtest.shape)\n",
    "\n",
    "ypred2rbfovo = classif.predict(X)\n",
    "\n",
    "#print(\"prediction class for [2,2]\", classif.predict([[2., 2.]])\n",
    "#print(\"support vectors: \", classif.support_vectors_)"
   ]
  },
  {
   "cell_type": "code",
   "execution_count": 29,
   "id": "b100c93d",
   "metadata": {},
   "outputs": [
    {
     "name": "stdout",
     "output_type": "stream",
     "text": [
      "train F1 score =  0.8947368421052632\n",
      "train accuracy score =  0.8947368421052632\n"
     ]
    }
   ],
   "source": [
    "rbfovo = f1_score(y, ypred2rbfovo, average = 'micro')\n",
    "print(\"train F1 score = \", f1_score(y, ypred2rbfovo, average = 'micro'))\n",
    "print(\"train accuracy score = \", accuracy_score(y, ypred2rbfovo))"
   ]
  },
  {
   "cell_type": "code",
   "execution_count": 30,
   "id": "d7d1e37e",
   "metadata": {},
   "outputs": [
    {
     "data": {
      "image/png": "[encoded data removed]",
      "text/plain": [
       "<Figure size 432x288 with 2 Axes>"
      ]
     },
     "metadata": {
      "needs_background": "light"
     },
     "output_type": "display_data"
    }
   ],
   "source": [
    "# Noms des peronnes sur les images\n",
    "classes = classesNames\n",
    "\n",
    "# Construction de la matrice\n",
    "cm2 = confusion_matrix(y, ypred2rbfovo, labels=[0,1,2,3,4])\n",
    "disp = ConfusionMatrixDisplay(confusion_matrix=cm2, display_labels=classes)\n",
    "disp.plot()\n",
    "disp.ax_.set_title('Confusion matrix (train dataset)')\n",
    "\n",
    "# Affichage\n",
    "plt.show()"
   ]
  },
  {
   "cell_type": "markdown",
   "id": "1766dabe",
   "metadata": {},
   "source": [
    "## Kernel : poly && Decision_function_shape=ovo"
   ]
  },
  {
   "cell_type": "code",
   "execution_count": 31,
   "id": "ce2fca9d",
   "metadata": {},
   "outputs": [],
   "source": [
    "X = bofs_test\n",
    "y = yTest\n",
    "\n",
    "\n",
    "# classif = svm.SVC(kernel='linear')\n",
    "classif = svm.SVC(kernel='poly', decision_function_shape='ovo')\n",
    "classif.fit(X, y)\n",
    "\n",
    "#print(Xtest.shape)\n",
    "\n",
    "ypred2polyovo = classif.predict(X)\n",
    "\n",
    "#print(\"prediction class for [2,2]\", classif.predict([[2., 2.]])\n",
    "#print(\"support vectors: \", classif.support_vectors_)"
   ]
  },
  {
   "cell_type": "code",
   "execution_count": 32,
   "id": "64ddcb2d",
   "metadata": {},
   "outputs": [
    {
     "name": "stdout",
     "output_type": "stream",
     "text": [
      "train F1 score =  0.9789473684210527\n",
      "train accuracy score =  0.9789473684210527\n"
     ]
    }
   ],
   "source": [
    "polyovo = f1_score(y, ypred2polyovo, average = 'micro')\n",
    "print(\"train F1 score = \", polyovo)\n",
    "print(\"train accuracy score = \", accuracy_score(y, ypred2polyovo))"
   ]
  },
  {
   "cell_type": "code",
   "execution_count": 33,
   "id": "c50664bf",
   "metadata": {},
   "outputs": [
    {
     "data": {
      "image/png": "[encoded data removed]",
      "text/plain": [
       "<Figure size 432x288 with 2 Axes>"
      ]
     },
     "metadata": {
      "needs_background": "light"
     },
     "output_type": "display_data"
    }
   ],
   "source": [
    "# Noms des peronnes sur les images\n",
    "classes = classesNames\n",
    "\n",
    "# Construction de la matrice\n",
    "cm2 = confusion_matrix(y, ypred2polyovo, labels=[0,1,2,3,4])\n",
    "disp = ConfusionMatrixDisplay(confusion_matrix=cm2, display_labels=classes)\n",
    "disp.plot()\n",
    "disp.ax_.set_title('Confusion matrix (train dataset)')\n",
    "\n",
    "# Affichage\n",
    "plt.show()"
   ]
  },
  {
   "cell_type": "markdown",
   "id": "12786c1d",
   "metadata": {},
   "source": [
    "Pour C = 1.0 (valeur par défaut)\n",
    "\n",
    "| Kcount | entrainement | regression lineaire | linear ovr | rbf ovr | poly ovr | linear ovo | rbf ovo | poly ovo |\n",
    "|--------|--------------|---------------------|------------|---------|----------|------------|---------|----------|\n",
    "| 10     | 53%          | 34%                 | 57%        | 61%     | 75%      | 57%        | 61%     | 75%      |\n",
    "| 20     | 63%          | 32%                 | 67%        | 77%     | 95%      | 67%        | 77%     | 95%      |\n",
    "| 50     | 70%          | 30%                 | 97%        | 91%     | 97%      | 97%        | 91%     | 97%      |\n",
    "| 100    | 86%          | 31%                 | 100%       | 95%     | 96%      | 100%       | 95%     | 96%      |\n",
    "\n",
    "Pour C = 2.0\n",
    "\n",
    "| Kcount | entrainement | regression lineaire | linear ovr | rbf ovr | poly ovr | linear ovo | rbf ovo | poly ovo |\n",
    "|--------|--------------|---------------------|------------|---------|----------|------------|---------|----------|\n",
    "| 50     | 71%          | 32%                 | 98%        | 98%     | 98%      | 98%        | 98%     | 98%      |\n",
    "\n",
    "Pour C = 5.0\n",
    "\n",
    "| Kcount | entrainement | regression lineaire | linear ovr | rbf ovr | poly ovr | linear ovo | rbf ovo | poly ovo |\n",
    "|--------|--------------|---------------------|------------|---------|----------|------------|---------|----------|\n",
    "| 50     | 71%          | 32%                 | 100%       | 100%    | 100%     | 100%       | 100%    | 100%     |"
   ]
  },
  {
   "cell_type": "markdown",
   "id": "6d2172e8",
   "metadata": {},
   "source": [
    "# Paramètres SVM"
   ]
  },
  {
   "cell_type": "markdown",
   "id": "4413fb83",
   "metadata": {},
   "source": [
    "Avec une valeur de k faible, le noyau poly semble mieux s'en sortir que les autres. Poly permet d'efficacement séparer des clusters peu nombreux et potentiellement intriqués. Pour un k mieux choisi, le noyau linéaire est le plus efficace avec une précision se rapprochant de 100%.\n",
    "\n",
    "Quant à la valeur de C nous avons testé les valeurs 1.0 (valeurs par défaut), 2.0 et 5.0. 5.0 donne une précision de 100%. D'autres valeurs pourraient être testées mais les résultats obtenus sont déjà très satisfaisants."
   ]
  },
  {
   "cell_type": "markdown",
   "id": "62ba83fe",
   "metadata": {},
   "source": [
    "# Conclusion\n",
    "\n",
    "En conclusion, on a pu voir lors de ce TP que les problèmes de classification d'images n'ont rien de trivial et qeu le choix des paramètres passés aux différents algorithmes influencent grandement les résultats obtenus.\n",
    "\n",
    "Les résultats obtenus ne sont pas forcément satisfaisant. Les différentes valeurs de k testées (10, 40, 50, 100, 200) ont donné des résultats plus ou moins exacts. 40 semble être la valeur avec la meilleure balance des scores F1 entre les données d'apprentissage et de test. Les valeurs supérieures à 100 semblent mener à un sur-apprentissage, avec la précision des prédictions sur les données d'entrainement qui se rapproche de 1 alors que la précision sur les données de test s'effondre, atteignant 20% ou 30%. On peut rapeller qu'avec des données réparties en 5 classes, une précision de 20% revient à faire une prédiction aléatoire.\n",
    "\n",
    "Plusieurs remarques peuvent être faites à partir des résultats obtenus :\n",
    "\n",
    "1. George W. Bush est sur-représenté dans les données founries, autant pour les données d'entrainement que les données de tests. Cela peut amener à des résultats biaisés, notamment lors d'une prédiction sur des images correspondant aux autres classes.\n",
    "\n",
    "2. La régression linéaire est la méthode la moins précise avec seulement 34% de précision.\n",
    "\n",
    "3. La méthode SVM utilisée avec le bons arguments peut donner de très bons résultats."
   ]
  }
 ],
 "metadata": {
  "kernelspec": {
   "display_name": "Python 3 (ipykernel)",
   "language": "python",
   "name": "python3"
  },
  "language_info": {
   "codemirror_mode": {
    "name": "ipython",
    "version": 3
   },
   "file_extension": ".py",
   "mimetype": "text/x-python",
   "name": "python",
   "nbconvert_exporter": "python",
   "pygments_lexer": "ipython3",
   "version": "3.10.4"
  }
 },
 "nbformat": 4,
 "nbformat_minor": 5
}
