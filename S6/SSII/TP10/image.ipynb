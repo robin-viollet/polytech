{
 "cells": [
  {
   "cell_type": "markdown",
   "id": "14e0b3fc",
   "metadata": {},
   "source": [
    "# Import"
   ]
  },
  {
   "cell_type": "code",
   "execution_count": 21,
   "id": "f9a2fd04",
   "metadata": {},
   "outputs": [],
   "source": [
    "from sklearn.datasets import fetch_lfw_people\n",
    "from sklearn.model_selection import train_test_split\n",
    "from sklearn.linear_model import LogisticRegression\n",
    "import matplotlib.pyplot as plt\n",
    "import numpy as np\n",
    "import cv2\n",
    "from sklearn import preprocessing\n",
    "from sklearn.metrics import f1_score, accuracy_score, confusion_matrix, ConfusionMatrixDisplay\n",
    "from sklearn.cluster import KMeans\n",
    "import numpy as np \n",
    "from sklearn import svm"
   ]
  },
  {
   "cell_type": "markdown",
   "id": "7468326e",
   "metadata": {},
   "source": [
    "# Variables"
   ]
  },
  {
   "cell_type": "code",
   "execution_count": 2,
   "id": "4856ec90",
   "metadata": {},
   "outputs": [],
   "source": [
    "# Nombre de cluster souhaité\n",
    "k_count = 10"
   ]
  },
  {
   "cell_type": "markdown",
   "id": "c87f4931",
   "metadata": {},
   "source": [
    "# Data"
   ]
  },
  {
   "cell_type": "code",
   "execution_count": 3,
   "id": "cc872767",
   "metadata": {},
   "outputs": [
    {
     "data": {
      "text/plain": [
       "sklearn.utils.Bunch"
      ]
     },
     "execution_count": 3,
     "metadata": {},
     "output_type": "execute_result"
    }
   ],
   "source": [
    "# On recupere les images\n",
    "lfw = fetch_lfw_people()\n",
    "type(lfw)"
   ]
  },
  {
   "cell_type": "code",
   "execution_count": 4,
   "id": "b302af92",
   "metadata": {},
   "outputs": [
    {
     "data": {
      "text/plain": [
       "dict_keys(['data', 'images', 'target', 'target_names', 'DESCR'])"
      ]
     },
     "execution_count": 4,
     "metadata": {},
     "output_type": "execute_result"
    }
   ],
   "source": [
    "# On regarder les differentes clés possible\n",
    "lfw.keys()"
   ]
  },
  {
   "cell_type": "code",
   "execution_count": 5,
   "id": "304e0a75",
   "metadata": {},
   "outputs": [
    {
     "name": "stdout",
     "output_type": "stream",
     "text": [
      "(13233, 2914)\n",
      "(13233, 62, 47)\n",
      "(13233,)\n",
      "<class 'numpy.int64'>\n",
      "(5749,)\n",
      "<class 'numpy.str_'>\n"
     ]
    }
   ],
   "source": [
    "# Affichage d'informations sur les datas\n",
    "print(lfw.data.shape)\n",
    "print(lfw.images.shape)\n",
    "print(lfw.target.shape)\n",
    "print(type(lfw.target[0]))\n",
    "print(lfw.target_names.shape)\n",
    "print(type(lfw.target_names[0]))"
   ]
  },
  {
   "cell_type": "markdown",
   "id": "9627dddc",
   "metadata": {},
   "source": [
    "## Images utiliser dans le TP"
   ]
  },
  {
   "cell_type": "code",
   "execution_count": 6,
   "id": "bf863ef0",
   "metadata": {},
   "outputs": [
    {
     "name": "stdout",
     "output_type": "stream",
     "text": [
      "(1140, 11750)\n",
      "(1140, 125, 94)\n",
      "(1140,)\n",
      "<class 'numpy.int64'>\n",
      "(5,)\n",
      "<class 'numpy.str_'>\n",
      "['Colin Powell', 'Donald Rumsfeld', 'George W Bush', 'Gerhard Schroeder', 'Tony Blair']\n"
     ]
    }
   ],
   "source": [
    "# Filtrage des datas\n",
    "# On veut les personnes avec au moins 100 images\n",
    "lfw = fetch_lfw_people(min_faces_per_person=100,resize=1)\n",
    "\n",
    "# Affichage des datas aprés filtrage\n",
    "print(lfw.data.shape)\n",
    "print(lfw.images.shape)\n",
    "print(lfw.target.shape)\n",
    "print(type(lfw.target[0]))\n",
    "print(lfw.target_names.shape)\n",
    "print(type(lfw.target_names[0]))\n",
    "\n",
    "# On récupere le noms des personnes\n",
    "classesNames = []\n",
    "for name in lfw.target_names:\n",
    "    classesNames.append(name)\n",
    "print(classesNames)"
   ]
  },
  {
   "cell_type": "markdown",
   "id": "762cc297",
   "metadata": {},
   "source": [
    "## Organisation des images"
   ]
  },
  {
   "cell_type": "code",
   "execution_count": 7,
   "id": "f5909f9c",
   "metadata": {},
   "outputs": [],
   "source": [
    "# On veut 75% d'images d'entrainements\n",
    "X = lfw.images\n",
    "y = lfw.target\n",
    "Xtrain, Xtest, yTrain, yTest = train_test_split(X, y, test_size=0.25, random_state=33)\n",
    "#print(len(Xtrain))\n",
    "#print(len(yTrain))\n"
   ]
  },
  {
   "cell_type": "markdown",
   "id": "3a0c2f1c",
   "metadata": {},
   "source": [
    "# Description des images"
   ]
  },
  {
   "cell_type": "code",
   "execution_count": 8,
   "id": "64fb85ef",
   "metadata": {},
   "outputs": [],
   "source": [
    "# ---------------------------------------------\n",
    "# On veut récuperer les SIFTs des images\n",
    "# ---------------------------------------------\n",
    "\n",
    "# variable sift\n",
    "sift = cv2.SIFT_create()\n",
    "\n",
    "# img recupere les images d'entrainements\n",
    "img = Xtrain\n",
    "\n",
    "# Recupere les informations des images\n",
    "kp = list()\n",
    "des = list()\n",
    "\n",
    "# Recupere les descripteurs SIFTs des images (myDes) + le nombres de descripteurs sift par image (myDesLen)\n",
    "myDes = []\n",
    "myDesLen = []\n",
    "\n",
    "# Pour le nombre d'image\n",
    "for i in range(len(img)):\n",
    "    # On normalise l'image\n",
    "    imgTmp = cv2.normalize(img[i], None, 0, 255, cv2.NORM_MINMAX).astype('uint8')\n",
    "    # Recupere les informations de l'image\n",
    "    kpTmp, desTmp = sift.detectAndCompute(imgTmp,None)\n",
    "    # Stock les informations\n",
    "    kp.append(kpTmp)\n",
    "    des.append(desTmp)\n",
    "    # Pour chaque descripteur sift de l'image\n",
    "    for data in desTmp:\n",
    "        # Stock le descripteur sift\n",
    "        myDes.append(data)\n",
    "    # Stock le nombre de descripteur sift de l'image analysé\n",
    "    myDesLen.append(len(desTmp))\n",
    "    #print(len(desTmp))    "
   ]
  },
  {
   "cell_type": "markdown",
   "id": "9fbf87d4",
   "metadata": {},
   "source": [
    "# Partitionnement par KMeans"
   ]
  },
  {
   "cell_type": "code",
   "execution_count": 9,
   "id": "0c421d3c",
   "metadata": {},
   "outputs": [
    {
     "name": "stdout",
     "output_type": "stream",
     "text": [
      "KMeans(n_clusters=10)\n"
     ]
    }
   ],
   "source": [
    "# ---------------------------------------------\n",
    "# On veut construire les barycentre\n",
    "# ---------------------------------------------\n",
    "\n",
    "kmeans1 = KMeans(n_clusters=k_count, init='k-means++')\n",
    "# J'entraine le model avec les descripteurs sifts\n",
    "kmeans1.fit(myDes)\n",
    "print(kmeans1)"
   ]
  },
  {
   "cell_type": "markdown",
   "id": "24c0eec8",
   "metadata": {},
   "source": [
    "# calculer les bows"
   ]
  },
  {
   "cell_type": "code",
   "execution_count": 14,
   "id": "82370199",
   "metadata": {},
   "outputs": [
    {
     "name": "stdout",
     "output_type": "stream",
     "text": [
      "855\n"
     ]
    }
   ],
   "source": [
    "# ---------------------------------------------\n",
    "# On veut faire une prédiction avec les données d'entrainements\n",
    "# ---------------------------------------------\n",
    "\n",
    "# On recupere les données d'entrainements\n",
    "classes = yTrain\n",
    "\n",
    "# Variables\n",
    "bofs = np.empty(shape=(len(classes),k_count)) # tableau des numéros de cluster pour les \n",
    "# descripteurs sifts des images\n",
    "i = 0 # Index de bofs\n",
    "j = 0 # Index de lecture du nombre de sift pour l'image analysée\n",
    "k = 1 # Pour affichage du numéros de prediction\n",
    "\n",
    "# Pour le nombre de descripteurs sifts d'une image / Pour chaque image\n",
    "for ds in myDesLen:\n",
    "    # Tableau temporaire qui recupere les numéros de cluster\n",
    "    tmpBof = np.array([0]*k_count)\n",
    "    # Recupere les sifts de l'image\n",
    "    sifts = myDes[j:j+ds]\n",
    "    j += ds\n",
    "    #print(\"Predict \",k,\" ...\")\n",
    "    k=k+1\n",
    "    # Pour chaque sift de l'image\n",
    "    for sift in sifts:\n",
    "        # Predit le cluster\n",
    "        clusterID = kmeans1.predict([sift])\n",
    "        # Stock le cluster\n",
    "        tmpBof[clusterID[0]] += 1\n",
    "    # Stock les clusters de l'image\n",
    "    bofs[i] = tmpBof\n",
    "    i+= 1\n",
    "    "
   ]
  },
  {
   "cell_type": "markdown",
   "id": "e52a7b9c",
   "metadata": {},
   "source": [
    "# Logistic Regression"
   ]
  },
  {
   "cell_type": "code",
   "execution_count": 11,
   "id": "9121891d",
   "metadata": {},
   "outputs": [
    {
     "data": {
      "text/plain": [
       "LogisticRegression()"
      ]
     },
     "execution_count": 11,
     "metadata": {},
     "output_type": "execute_result"
    }
   ],
   "source": [
    "# ---------------------------------------------\n",
    "# Résolution par regression linéaire\n",
    "# ---------------------------------------------\n",
    "\n",
    "# Fabrication du model\n",
    "logic_reg_2 = LogisticRegression()\n",
    "scaler_2 = preprocessing.StandardScaler().fit(bofs)\n",
    "xTrain2 = scaler_2.transform(bofs)\n",
    "\n",
    "# Données d'entrainement\n",
    "yTrain2 = []\n",
    "for clNumber in yTrain:\n",
    "    yTrain2 += [clNumber]\n",
    "\n",
    "# Entrainement du model\n",
    "logic_reg_2.fit(xTrain2, yTrain2)"
   ]
  },
  {
   "cell_type": "markdown",
   "id": "206d2a83",
   "metadata": {},
   "source": [
    "# Statistique sur les données d'entrainements"
   ]
  },
  {
   "cell_type": "code",
   "execution_count": 12,
   "id": "4e1ef15b",
   "metadata": {},
   "outputs": [
    {
     "name": "stdout",
     "output_type": "stream",
     "text": [
      "train F1 score =  0.560233918128655\n",
      "train accuracy score =  0.560233918128655\n"
     ]
    }
   ],
   "source": [
    "# ---------------------------------------------\n",
    "# Est ce que le systeme prédit de façon fiable?\n",
    "# ---------------------------------------------\n",
    "\n",
    "# Prediction\n",
    "ypred2 = logic_reg_2.predict(xTrain2)\n",
    "\n",
    "# Affichage du résutat\n",
    "print(\"train F1 score = \", f1_score(yTrain2, ypred2, average = 'micro'))\n",
    "print(\"train accuracy score = \", accuracy_score(yTrain2, ypred2))"
   ]
  },
  {
   "cell_type": "code",
   "execution_count": 13,
   "id": "eba99c87",
   "metadata": {},
   "outputs": [
    {
     "data": {
      "image/png": "[encoded data removed]",
      "text/plain": [
       "<Figure size 432x288 with 2 Axes>"
      ]
     },
     "metadata": {
      "needs_background": "light"
     },
     "output_type": "display_data"
    }
   ],
   "source": [
    "# ---------------------------------------------\n",
    "# Matrice de confusion\n",
    "# ---------------------------------------------\n",
    "\n",
    "# Noms des peronnes sur les images\n",
    "classes = classesNames\n",
    "\n",
    "# Construction de la matrice\n",
    "cm2 = confusion_matrix(yTrain2, ypred2, labels=[0,1,2,3,4])\n",
    "disp = ConfusionMatrixDisplay(confusion_matrix=cm2, display_labels=classes)\n",
    "disp.plot()\n",
    "disp.ax_.set_title('Confusion matrix (train dataset)')\n",
    "\n",
    "# Affichage\n",
    "plt.show()"
   ]
  },
  {
   "cell_type": "markdown",
   "id": "e492012c",
   "metadata": {},
   "source": [
    "# Analyse"
   ]
  },
  {
   "cell_type": "markdown",
   "id": "13da3fb1",
   "metadata": {},
   "source": [
    "## Avec 10 clusters \n",
    "\n",
    "Les statistiques nous montre que le résultat et un peu mieux que de l'aléatoire: 56%\n",
    "Néamoins, nous trouvons que le résultat n'est pas suffisament fiable. La matrice de confusion nous montre nous montre tous les faux positifs.\n",
    "\n",
    "## La suite\n",
    "\n",
    "Essayer avec d'autres quantités de clusters"
   ]
  },
  {
   "cell_type": "code",
   "execution_count": 52,
   "id": "cc58b6fd",
   "metadata": {},
   "outputs": [
    {
     "name": "stdout",
     "output_type": "stream",
     "text": [
      "KMeans(n_clusters=50)\n",
      "train F1 score =  0.7204678362573099\n",
      "train accuracy score =  0.7204678362573099\n"
     ]
    },
    {
     "data": {
      "image/png": "[encoded data removed]",
      "text/plain": [
       "<Figure size 432x288 with 2 Axes>"
      ]
     },
     "metadata": {
      "needs_background": "light"
     },
     "output_type": "display_data"
    }
   ],
   "source": [
    "k_count = 50\n",
    "\n",
    "# ==========================================================================\n",
    "#                             DESCRIPTEUR SIFT\n",
    "# ==========================================================================\n",
    "\n",
    "# ---------------------------------------------\n",
    "# On veut récuperer les SIFTs des images\n",
    "# ---------------------------------------------\n",
    "\n",
    "# variable sift\n",
    "sift = cv2.SIFT_create()\n",
    "\n",
    "# img recupere les images d'entrainements\n",
    "img = Xtrain\n",
    "\n",
    "# Recupere les informations des images\n",
    "kp = list()\n",
    "des = list()\n",
    "\n",
    "# Recupere les descripteurs SIFTs des images (myDes) + le nombres de descripteurs sift par image (myDesLen)\n",
    "myDes = []\n",
    "myDesLen = []\n",
    "\n",
    "# Pour le nombre d'image\n",
    "for i in range(len(img)):\n",
    "    # On normalise l'image\n",
    "    imgTmp = cv2.normalize(img[i], None, 0, 255, cv2.NORM_MINMAX).astype('uint8')\n",
    "    # Recupere les informations de l'image\n",
    "    kpTmp, desTmp = sift.detectAndCompute(imgTmp,None)\n",
    "    # Stock les informations\n",
    "    kp.append(kpTmp)\n",
    "    des.append(desTmp)\n",
    "    # Pour chaque descripteur sift de l'image\n",
    "    for data in desTmp:\n",
    "        # Stock le descripteur sift\n",
    "        myDes.append(data)\n",
    "    # Stock le nombre de descripteur sift de l'image analysé\n",
    "    myDesLen.append(len(desTmp))\n",
    "    #print(len(desTmp))\n",
    "    \n",
    "# ==========================================================================\n",
    "#                        PARTITIONNEMENT PAR KMEANS\n",
    "# ==========================================================================\n",
    "\n",
    "# ---------------------------------------------\n",
    "# On veut construire les barycentre\n",
    "# ---------------------------------------------\n",
    "\n",
    "kmeans1 = KMeans(n_clusters=k_count, init='k-means++')\n",
    "# J'entraine le model avec les descripteurs sifts\n",
    "kmeans1.fit(myDes)\n",
    "print(kmeans1)\n",
    "\n",
    "# ==========================================================================\n",
    "#                        CALCUL DES BOWS\n",
    "# ==========================================================================\n",
    "\n",
    "# ---------------------------------------------\n",
    "# On veut faire une prédiction avec les données d'entrainements\n",
    "# ---------------------------------------------\n",
    "\n",
    "# On recupere les données d'entrainements\n",
    "classes = yTrain\n",
    "\n",
    "# Variables\n",
    "bofs = np.empty(shape=(len(classes),k_count)) # tableau des numéros de cluster pour les \n",
    "# descripteurs sifts des images\n",
    "i = 0 # Index de bofs\n",
    "j = 0 # Index de lecture du nombre de sift pour l'image analysée\n",
    "k = 1 # Pour affichage du numéros de prediction\n",
    "\n",
    "# Pour le nombre de descripteurs sifts d'une image / Pour chaque image\n",
    "for ds in myDesLen:\n",
    "    # Tableau temporaire qui recupere les numéros de cluster\n",
    "    tmpBof = np.array([0]*k_count)\n",
    "    # Recupere les sifts de l'image\n",
    "    sifts = myDes[j:j+ds]\n",
    "    j += ds\n",
    "    #print(\"Predict \",k,\" ...\")\n",
    "    k=k+1\n",
    "    # Pour chaque sift de l'image\n",
    "    for sift in sifts:\n",
    "        # Predit le cluster\n",
    "        clusterID = kmeans1.predict([sift])\n",
    "        # Stock le cluster\n",
    "        tmpBof[clusterID[0]] += 1\n",
    "    # Stock les clusters de l'image\n",
    "    bofs[i] = tmpBof\n",
    "    i+= 1\n",
    "    \n",
    "# ==========================================================================\n",
    "#                        REGRESSION LINEAIRE\n",
    "# ==========================================================================\n",
    "\n",
    "# ---------------------------------------------\n",
    "# Résolution par regression linéaire\n",
    "# ---------------------------------------------\n",
    "\n",
    "# Fabrication du model\n",
    "logic_reg_2 = LogisticRegression()\n",
    "scaler_2 = preprocessing.StandardScaler().fit(bofs)\n",
    "xTrain2 = scaler_2.transform(bofs)\n",
    "\n",
    "# Données d'entrainement\n",
    "yTrain2 = []\n",
    "for clNumber in yTrain:\n",
    "    yTrain2 += [clNumber]\n",
    "\n",
    "# Entrainement du model\n",
    "logic_reg_2.fit(xTrain2, yTrain2)\n",
    "\n",
    "# ==========================================================================\n",
    "#                        PREDICTION\n",
    "# ==========================================================================\n",
    "\n",
    "# Prediction\n",
    "ypred2 = logic_reg_2.predict(xTrain2)\n",
    "# Affichage du résutat\n",
    "print(\"train F1 score = \", f1_score(yTrain2, ypred2, average = 'micro'))\n",
    "print(\"train accuracy score = \", accuracy_score(yTrain2, ypred2))\n",
    "\n",
    "# ==========================================================================\n",
    "#                        MATRICE DE CONFUSION\n",
    "# ==========================================================================\n",
    "\n",
    "# ---------------------------------------------\n",
    "# Matrice de confusion\n",
    "# ---------------------------------------------\n",
    "\n",
    "# Noms des peronnes sur les images\n",
    "classes = classesNames\n",
    "\n",
    "# Construction de la matrice\n",
    "cm2 = confusion_matrix(yTrain2, ypred2, labels=[0,1,2,3,4])\n",
    "disp = ConfusionMatrixDisplay(confusion_matrix=cm2, display_labels=classes)\n",
    "disp.plot()\n",
    "disp.ax_.set_title('Confusion matrix (train dataset)')\n",
    "\n",
    "# Affichage\n",
    "plt.show()"
   ]
  },
  {
   "cell_type": "markdown",
   "id": "987c734b",
   "metadata": {},
   "source": [
    "# Analyse avec differentes valeurs de k_means\n",
    "\n",
    "| Nombre de Kmeans | Statistique |\n",
    "|------------------|-------------|\n",
    "| 20               | 61.75%      |\n",
    "| 50               | 70%         |\n",
    "| 100              | 83.7%       |\n",
    "| 200              | 100%        |\n",
    "\n",
    "\n",
    "Ici on peut voir qu'avec 200 kmeans, on obtient 100% de reussite. "
   ]
  },
  {
   "cell_type": "markdown",
   "id": "d8789040",
   "metadata": {},
   "source": [
    "# Clasification SVM"
   ]
  },
  {
   "cell_type": "markdown",
   "id": "dec64d92",
   "metadata": {},
   "source": [
    "## Evaluation de la classification"
   ]
  },
  {
   "cell_type": "code",
   "execution_count": 118,
   "id": "94622697",
   "metadata": {},
   "outputs": [],
   "source": [
    "# variable sift\n",
    "sift = cv2.SIFT_create()\n",
    "\n",
    "# img recupere les images d'entrainements\n",
    "img = Xtest\n",
    "\n",
    "# Recupere les informations des images\n",
    "kp = list()\n",
    "des = list()\n",
    "\n",
    "# Recupere les descripteurs SIFTs des images (myDes) + le nombres de descripteurs sift par image (myDesLen)\n",
    "myDes = []\n",
    "myDesLen = []\n",
    "\n",
    "# Pour le nombre d'image\n",
    "for i in range(len(img)):\n",
    "    # On normalise l'image\n",
    "    imgTmp = cv2.normalize(img[i], None, 0, 255, cv2.NORM_MINMAX).astype('uint8')\n",
    "    # Recupere les informations de l'image\n",
    "    kpTmp, desTmp = sift.detectAndCompute(imgTmp,None)\n",
    "    # Stock les informations\n",
    "    kp.append(kpTmp)\n",
    "    des.append(desTmp)\n",
    "    # Pour chaque descripteur sift de l'image\n",
    "    for data in desTmp:\n",
    "        # Stock le descripteur sift\n",
    "        myDes.append(data)\n",
    "    # Stock le nombre de descripteur sift de l'image analysé\n",
    "    myDesLen.append(len(desTmp))\n",
    "    #print(len(desTmp))\n",
    "\n",
    "\n",
    "classes = yTest\n",
    "\n",
    "bofs_test = np.empty(shape=(len(classes),k_count))\n",
    "\n",
    "# descripteurs sifts des images\n",
    "i = 0 # Index de bofs\n",
    "j = 0 # Index de lecture du nombre de sift pour l'image analysée\n",
    "k = 1 # Pour affichage du numéros de prediction\n",
    "\n",
    "# Pour le nombre de descripteurs sifts d'une image / Pour chaque image\n",
    "for ds in myDesLen:\n",
    "    # Tableau temporaire qui recupere les numéros de cluster\n",
    "    tmpBof = np.array([0]*k_count)\n",
    "    # Recupere les sifts de l'image\n",
    "    sifts = myDes[j:j+ds]\n",
    "    j += ds\n",
    "    #print(\"Predict \",k,\" ...\")\n",
    "    k=k+1\n",
    "    # Pour chaque sift de l'image\n",
    "    for sift in sifts:\n",
    "        # Predit le cluster\n",
    "        clusterID = kmeans1.predict([sift])\n",
    "        # Stock le cluster\n",
    "        tmpBof[clusterID[0]] += 1\n",
    "    # Stock les clusters de l'image\n",
    "    bofs_test[i] = tmpBof\n",
    "    i+= 1"
   ]
  },
  {
   "cell_type": "markdown",
   "id": "e78a6297",
   "metadata": {},
   "source": [
    "## Kernel : linear && Decision_function_shape=ovr"
   ]
  },
  {
   "cell_type": "code",
   "execution_count": 119,
   "id": "d0e35a07",
   "metadata": {},
   "outputs": [],
   "source": [
    "#X = [[0, 0], [1, 1]]\n",
    "#y = [0,1]\n",
    "\n",
    "#print(Xtest)\n",
    "\n",
    "X = bofs_test\n",
    "y = yTest\n",
    "\n",
    "\n",
    "# classif = svm.SVC(kernel='linear')\n",
    "classif = svm.SVC(kernel='linear', decision_function_shape='ovr')\n",
    "classif.fit(X, y)\n",
    "\n",
    "#print(Xtest.shape)\n",
    "\n",
    "ypred2linearovr = classif.predict(X)\n",
    "\n",
    "#print(\"prediction class for [2,2]\", classif.predict([[2., 2.]])\n",
    "#print(\"support vectors: \", classif.support_vectors_)"
   ]
  },
  {
   "cell_type": "code",
   "execution_count": 120,
   "id": "13cf5d2f",
   "metadata": {},
   "outputs": [
    {
     "name": "stdout",
     "output_type": "stream",
     "text": [
      "train F1 score =  0.9859649122807017\n",
      "train accuracy score =  0.9859649122807017\n"
     ]
    }
   ],
   "source": [
    "linearovr = f1_score(y, ypred2linearovr, average = 'micro')\n",
    "print(\"train F1 score = \", linearovr)\n",
    "print(\"train accuracy score = \", accuracy_score(y, ypred2linearovr))"
   ]
  },
  {
   "cell_type": "code",
   "execution_count": 121,
   "id": "b20f074f",
   "metadata": {},
   "outputs": [
    {
     "data": {
      "image/png": "[encoded data removed]",
      "text/plain": [
       "<Figure size 432x288 with 2 Axes>"
      ]
     },
     "metadata": {
      "needs_background": "light"
     },
     "output_type": "display_data"
    }
   ],
   "source": [
    "# Noms des peronnes sur les images\n",
    "classes = classesNames\n",
    "\n",
    "# Construction de la matrice\n",
    "cm2 = confusion_matrix(y, ypred2linearovr, labels=[0,1,2,3,4])\n",
    "disp = ConfusionMatrixDisplay(confusion_matrix=cm2, display_labels=classes)\n",
    "disp.plot()\n",
    "disp.ax_.set_title('Confusion matrix (train dataset)')\n",
    "\n",
    "# Affichage\n",
    "plt.show()"
   ]
  },
  {
   "cell_type": "markdown",
   "id": "0d5e9329",
   "metadata": {},
   "source": [
    "## Kernel : rbf && Decision_function_shape=ovr"
   ]
  },
  {
   "cell_type": "code",
   "execution_count": 122,
   "id": "492d726f",
   "metadata": {},
   "outputs": [],
   "source": [
    "X = bofs_test\n",
    "y = yTest\n",
    "\n",
    "\n",
    "# classif = svm.SVC(kernel='linear')\n",
    "classif = svm.SVC(kernel='rbf', decision_function_shape='ovr')\n",
    "classif.fit(X, y)\n",
    "\n",
    "#print(Xtest.shape)\n",
    "\n",
    "ypred2rbfovr = classif.predict(X)\n",
    "\n",
    "#print(\"prediction class for [2,2]\", classif.predict([[2., 2.]])\n",
    "#print(\"support vectors: \", classif.support_vectors_)"
   ]
  },
  {
   "cell_type": "code",
   "execution_count": 123,
   "id": "aaa7ca24",
   "metadata": {},
   "outputs": [
    {
     "name": "stdout",
     "output_type": "stream",
     "text": [
      "train F1 score =  0.9052631578947369\n",
      "train accuracy score =  0.9052631578947369\n"
     ]
    }
   ],
   "source": [
    "rbfovr = f1_score(y, ypred2rbfovr, average = 'micro')\n",
    "print(\"train F1 score = \", rbfovr)\n",
    "print(\"train accuracy score = \", accuracy_score(y, ypred2rbfovr))"
   ]
  },
  {
   "cell_type": "code",
   "execution_count": 124,
   "id": "2b2fd9b2",
   "metadata": {},
   "outputs": [
    {
     "data": {
      "image/png": "[encoded data removed]",
      "text/plain": [
       "<Figure size 432x288 with 2 Axes>"
      ]
     },
     "metadata": {
      "needs_background": "light"
     },
     "output_type": "display_data"
    }
   ],
   "source": [
    "# Noms des peronnes sur les images\n",
    "classes = classesNames\n",
    "\n",
    "# Construction de la matrice\n",
    "cm2 = confusion_matrix(y, ypred2rbfovr, labels=[0,1,2,3,4])\n",
    "disp = ConfusionMatrixDisplay(confusion_matrix=cm2, display_labels=classes)\n",
    "disp.plot()\n",
    "disp.ax_.set_title('Confusion matrix (train dataset)')\n",
    "\n",
    "# Affichage\n",
    "plt.show()"
   ]
  },
  {
   "cell_type": "markdown",
   "id": "c426cd55",
   "metadata": {},
   "source": [
    "## Kernel : poly && Decision_function_shape=ovr"
   ]
  },
  {
   "cell_type": "code",
   "execution_count": 125,
   "id": "f7daad63",
   "metadata": {},
   "outputs": [],
   "source": [
    "X = bofs_test\n",
    "y = yTest\n",
    "\n",
    "\n",
    "# classif = svm.SVC(kernel='linear')\n",
    "classif = svm.SVC(kernel='poly', decision_function_shape='ovr')\n",
    "classif.fit(X, y)\n",
    "\n",
    "#print(Xtest.shape)\n",
    "\n",
    "ypred2polyovr = classif.predict(X)\n",
    "\n",
    "#print(\"prediction class for [2,2]\", classif.predict([[2., 2.]])\n",
    "#print(\"support vectors: \", classif.support_vectors_)"
   ]
  },
  {
   "cell_type": "code",
   "execution_count": 126,
   "id": "5e166508",
   "metadata": {},
   "outputs": [
    {
     "name": "stdout",
     "output_type": "stream",
     "text": [
      "train F1 score =  0.9789473684210527\n",
      "train accuracy score =  0.9789473684210527\n"
     ]
    }
   ],
   "source": [
    "polyovr = f1_score(y, ypred2polyovr, average = 'micro')\n",
    "print(\"train F1 score = \", polyovr)\n",
    "print(\"train accuracy score = \", accuracy_score(y, ypred2polyovr))"
   ]
  },
  {
   "cell_type": "code",
   "execution_count": 127,
   "id": "d32cf9cf",
   "metadata": {},
   "outputs": [
    {
     "data": {
      "image/png": "[encoded data removed]",
      "text/plain": [
       "<Figure size 432x288 with 2 Axes>"
      ]
     },
     "metadata": {
      "needs_background": "light"
     },
     "output_type": "display_data"
    }
   ],
   "source": [
    "# Noms des peronnes sur les images\n",
    "classes = classesNames\n",
    "\n",
    "# Construction de la matrice\n",
    "cm2 = confusion_matrix(y, ypred2polyovr, labels=[0,1,2,3,4])\n",
    "disp = ConfusionMatrixDisplay(confusion_matrix=cm2, display_labels=classes)\n",
    "disp.plot()\n",
    "disp.ax_.set_title('Confusion matrix (train dataset)')\n",
    "\n",
    "# Affichage\n",
    "plt.show()"
   ]
  },
  {
   "cell_type": "markdown",
   "id": "3ba7e33e",
   "metadata": {},
   "source": [
    "## Kernel : linear && Decision_function_shape=ovo"
   ]
  },
  {
   "cell_type": "code",
   "execution_count": 128,
   "id": "771476fe",
   "metadata": {},
   "outputs": [],
   "source": [
    "X = bofs_test\n",
    "y = yTest\n",
    "\n",
    "\n",
    "# classif = svm.SVC(kernel='linear')\n",
    "classif = svm.SVC(kernel='linear', decision_function_shape='ovo')\n",
    "classif.fit(X, y)\n",
    "\n",
    "#print(Xtest.shape)\n",
    "\n",
    "ypred2linearovo = classif.predict(X)\n",
    "\n",
    "#print(\"prediction class for [2,2]\", classif.predict([[2., 2.]])\n",
    "#print(\"support vectors: \", classif.support_vectors_)"
   ]
  },
  {
   "cell_type": "code",
   "execution_count": 129,
   "id": "ef43caa2",
   "metadata": {},
   "outputs": [
    {
     "name": "stdout",
     "output_type": "stream",
     "text": [
      "train F1 score =  0.9859649122807017\n",
      "train accuracy score =  0.9859649122807017\n"
     ]
    }
   ],
   "source": [
    "linearovo = f1_score(y, ypred2linearovo, average = 'micro')\n",
    "print(\"train F1 score = \", linearovo)\n",
    "print(\"train accuracy score = \", accuracy_score(y, ypred2linearovo))"
   ]
  },
  {
   "cell_type": "code",
   "execution_count": 130,
   "id": "50dd152f",
   "metadata": {},
   "outputs": [
    {
     "data": {
      "image/png": "[encoded data removed]",
      "text/plain": [
       "<Figure size 432x288 with 2 Axes>"
      ]
     },
     "metadata": {
      "needs_background": "light"
     },
     "output_type": "display_data"
    }
   ],
   "source": [
    "# Noms des peronnes sur les images\n",
    "classes = classesNames\n",
    "\n",
    "# Construction de la matrice\n",
    "cm2 = confusion_matrix(y, ypred2linearovo, labels=[0,1,2,3,4])\n",
    "disp = ConfusionMatrixDisplay(confusion_matrix=cm2, display_labels=classes)\n",
    "disp.plot()\n",
    "disp.ax_.set_title('Confusion matrix (train dataset)')\n",
    "\n",
    "# Affichage\n",
    "plt.show()"
   ]
  },
  {
   "cell_type": "markdown",
   "id": "859dcd52",
   "metadata": {},
   "source": [
    "## Kernel : rbf && Decision_function_shape=ovo"
   ]
  },
  {
   "cell_type": "code",
   "execution_count": 131,
   "id": "08ac1618",
   "metadata": {},
   "outputs": [],
   "source": [
    "X = bofs_test\n",
    "y = yTest\n",
    "\n",
    "\n",
    "# classif = svm.SVC(kernel='linear')\n",
    "classif = svm.SVC(kernel='rbf', decision_function_shape='ovo')\n",
    "classif.fit(X, y)\n",
    "\n",
    "#print(Xtest.shape)\n",
    "\n",
    "ypred2rbfovo = classif.predict(X)\n",
    "\n",
    "#print(\"prediction class for [2,2]\", classif.predict([[2., 2.]])\n",
    "#print(\"support vectors: \", classif.support_vectors_)"
   ]
  },
  {
   "cell_type": "code",
   "execution_count": 132,
   "id": "c0e848a9",
   "metadata": {},
   "outputs": [
    {
     "name": "stdout",
     "output_type": "stream",
     "text": [
      "train F1 score =  0.9052631578947369\n",
      "train accuracy score =  0.9052631578947369\n"
     ]
    }
   ],
   "source": [
    "rbfovo = f1_score(y, ypred2rbfovo, average = 'micro')\n",
    "print(\"train F1 score = \", f1_score(y, ypred2rbfovo, average = 'micro'))\n",
    "print(\"train accuracy score = \", accuracy_score(y, ypred2rbfovo))"
   ]
  },
  {
   "cell_type": "code",
   "execution_count": 133,
   "id": "d5eee833",
   "metadata": {},
   "outputs": [
    {
     "data": {
      "image/png": "[encoded data removed]",
      "text/plain": [
       "<Figure size 432x288 with 2 Axes>"
      ]
     },
     "metadata": {
      "needs_background": "light"
     },
     "output_type": "display_data"
    }
   ],
   "source": [
    "# Noms des peronnes sur les images\n",
    "classes = classesNames\n",
    "\n",
    "# Construction de la matrice\n",
    "cm2 = confusion_matrix(y, ypred2rbfovo, labels=[0,1,2,3,4])\n",
    "disp = ConfusionMatrixDisplay(confusion_matrix=cm2, display_labels=classes)\n",
    "disp.plot()\n",
    "disp.ax_.set_title('Confusion matrix (train dataset)')\n",
    "\n",
    "# Affichage\n",
    "plt.show()"
   ]
  },
  {
   "cell_type": "markdown",
   "id": "f4956a44",
   "metadata": {},
   "source": [
    "## Kernel : poly && Decision_function_shape=ovo"
   ]
  },
  {
   "cell_type": "code",
   "execution_count": 134,
   "id": "8a4e50cd",
   "metadata": {},
   "outputs": [],
   "source": [
    "X = bofs_test\n",
    "y = yTest\n",
    "\n",
    "\n",
    "# classif = svm.SVC(kernel='linear')\n",
    "classif = svm.SVC(kernel='poly', decision_function_shape='ovo')\n",
    "classif.fit(X, y)\n",
    "\n",
    "#print(Xtest.shape)\n",
    "\n",
    "ypred2polyovo = classif.predict(X)\n",
    "\n",
    "#print(\"prediction class for [2,2]\", classif.predict([[2., 2.]])\n",
    "#print(\"support vectors: \", classif.support_vectors_)"
   ]
  },
  {
   "cell_type": "code",
   "execution_count": 135,
   "id": "a6f144c5",
   "metadata": {},
   "outputs": [
    {
     "name": "stdout",
     "output_type": "stream",
     "text": [
      "train F1 score =  0.9789473684210527\n",
      "train accuracy score =  0.9789473684210527\n"
     ]
    }
   ],
   "source": [
    "polyovo = f1_score(y, ypred2polyovo, average = 'micro')\n",
    "print(\"train F1 score = \", polyovo)\n",
    "print(\"train accuracy score = \", accuracy_score(y, ypred2polyovo))"
   ]
  },
  {
   "cell_type": "code",
   "execution_count": 136,
   "id": "5c26deb8",
   "metadata": {},
   "outputs": [
    {
     "data": {
      "image/png": "[encoded data removed]",
      "text/plain": [
       "<Figure size 432x288 with 2 Axes>"
      ]
     },
     "metadata": {
      "needs_background": "light"
     },
     "output_type": "display_data"
    }
   ],
   "source": [
    "# Noms des peronnes sur les images\n",
    "classes = classesNames\n",
    "\n",
    "# Construction de la matrice\n",
    "cm2 = confusion_matrix(y, ypred2polyovo, labels=[0,1,2,3,4])\n",
    "disp = ConfusionMatrixDisplay(confusion_matrix=cm2, display_labels=classes)\n",
    "disp.plot()\n",
    "disp.ax_.set_title('Confusion matrix (train dataset)')\n",
    "\n",
    "# Affichage\n",
    "plt.show()"
   ]
  },
  {
   "cell_type": "markdown",
   "id": "f3b34137",
   "metadata": {},
   "source": [
    "## Résultat"
   ]
  },
  {
   "cell_type": "code",
   "execution_count": 137,
   "id": "f98dc548",
   "metadata": {},
   "outputs": [
    {
     "name": "stdout",
     "output_type": "stream",
     "text": [
      "0.9859649122807017\n",
      "0.9052631578947369\n",
      "0.9789473684210527\n",
      "0.9859649122807017\n",
      "0.9052631578947369\n",
      "0.9789473684210527\n"
     ]
    }
   ],
   "source": [
    "print(linearovr)\n",
    "print(rbfovr)\n",
    "print(polyovr)\n",
    "print(linearovo)\n",
    "print(rbfovo)\n",
    "print(polyovo)"
   ]
  }
 ],
 "metadata": {
  "kernelspec": {
   "display_name": "Python 3 (ipykernel)",
   "language": "python",
   "name": "python3"
  },
  "language_info": {
   "codemirror_mode": {
    "name": "ipython",
    "version": 3
   },
   "file_extension": ".py",
   "mimetype": "text/x-python",
   "name": "python",
   "nbconvert_exporter": "python",
   "pygments_lexer": "ipython3",
   "version": "3.10.4"
  }
 },
 "nbformat": 4,
 "nbformat_minor": 5
}
